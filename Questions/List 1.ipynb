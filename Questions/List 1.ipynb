{
  "nbformat": 4,
  "nbformat_minor": 0,
  "metadata": {
    "colab": {
      "name": "List 1.ipynb",
      "provenance": []
    },
    "kernelspec": {
      "name": "python3",
      "display_name": "Python 3"
    }
  },
  "cells": [
    {
      "cell_type": "markdown",
      "metadata": {
        "id": "e0R1W0Vzm4UU",
        "colab_type": "text"
      },
      "source": [
        "# Exercise - List"
      ]
    },
    {
      "cell_type": "markdown",
      "metadata": {
        "id": "TrO7XNQnnQZ7",
        "colab_type": "text"
      },
      "source": [
        "1) Create  any random list and assign it to a variable dummy_list"
      ]
    },
    {
      "cell_type": "code",
      "metadata": {
        "id": "bjl-2QkznWid",
        "colab_type": "code",
        "colab": {
          "base_uri": "https://localhost:8080/",
          "height": 34
        },
        "outputId": "4aeceb43-18b6-4d26-ca05-568c2800ce2b"
      },
      "source": [
        "list = [1,2,3,4,5,6,7,8,9]\n",
        "dummy_list = list\n",
        "print(dummy_list)"
      ],
      "execution_count": 1,
      "outputs": [
        {
          "output_type": "stream",
          "text": [
            "[1, 2, 3, 4, 5, 6, 7, 8, 9]\n"
          ],
          "name": "stdout"
        }
      ]
    },
    {
      "cell_type": "markdown",
      "metadata": {
        "id": "cDjddNGfngnp",
        "colab_type": "text"
      },
      "source": [
        "2) print dummy_list"
      ]
    },
    {
      "cell_type": "code",
      "metadata": {
        "id": "RVL5178inz9M",
        "colab_type": "code",
        "colab": {
          "base_uri": "https://localhost:8080/",
          "height": 34
        },
        "outputId": "6cc5426d-17da-42e6-de25-2ca02988484a"
      },
      "source": [
        "print(dummy_list)"
      ],
      "execution_count": 2,
      "outputs": [
        {
          "output_type": "stream",
          "text": [
            "[1, 2, 3, 4, 5, 6, 7, 8, 9]\n"
          ],
          "name": "stdout"
        }
      ]
    },
    {
      "cell_type": "markdown",
      "metadata": {
        "id": "15jKDXxkn16M",
        "colab_type": "text"
      },
      "source": [
        "3) Reverse dummy_list and print"
      ]
    },
    {
      "cell_type": "code",
      "metadata": {
        "id": "0Q5yeD9x9xIA",
        "colab_type": "code",
        "colab": {
          "base_uri": "https://localhost:8080/",
          "height": 34
        },
        "outputId": "5c8c2ebf-dca1-497f-a916-294206cdab80"
      },
      "source": [
        "def Reverse(dummy_list): \n",
        "\tnew_list = dummy_list[::-1] \n",
        "\treturn new_list \n",
        "\t\n",
        "dummy_list = [1,2,3,4,5,6,7,8,9] \n",
        "print(Reverse(dummy_list)) "
      ],
      "execution_count": 8,
      "outputs": [
        {
          "output_type": "stream",
          "text": [
            "[9, 8, 7, 6, 5, 4, 3, 2, 1]\n"
          ],
          "name": "stdout"
        }
      ]
    },
    {
      "cell_type": "markdown",
      "metadata": {
        "id": "EShv0nfXpUys",
        "colab_type": "text"
      },
      "source": [
        "4) Add the list dummy_list_2 to the previous dummy_list and now print dummy_list"
      ]
    },
    {
      "cell_type": "code",
      "metadata": {
        "id": "Ngkc7hnYphg6",
        "colab_type": "code",
        "colab": {}
      },
      "source": [
        "#dummy_list_2 = [2, 200, 16, 4, 1, 0, 9.45, 45.67, 90, 12.01, 12.02]"
      ],
      "execution_count": 0,
      "outputs": []
    },
    {
      "cell_type": "code",
      "metadata": {
        "colab_type": "code",
        "outputId": "b1f3b7a6-2eea-4b82-f0ad-53ec5a0eb962",
        "id": "5u_ZzmmJ-d1j",
        "colab": {
          "base_uri": "https://localhost:8080/",
          "height": 34
        }
      },
      "source": [
        "dummy_list = [1,2,3,4,5,6,7,8,9]\n",
        "dummy_list_2 = [2, 200, 16, 4, 1, 0, 9.45, 45.67, 90, 12.01, 12.02]\n",
        "dummy_list = dummy_list + dummy_list_2\n",
        "print(dummy_list)"
      ],
      "execution_count": 10,
      "outputs": [
        {
          "output_type": "stream",
          "text": [
            "[1, 2, 3, 4, 5, 6, 7, 8, 9, 2, 200, 16, 4, 1, 0, 9.45, 45.67, 90, 12.01, 12.02]\n"
          ],
          "name": "stdout"
        }
      ]
    },
    {
      "cell_type": "markdown",
      "metadata": {
        "id": "Le1aRTuYoDzS",
        "colab_type": "text"
      },
      "source": [
        "5) Create a dictionary named dummy_dict which contains all the elements of dummy_list as keys and frequency as values. "
      ]
    },
    {
      "cell_type": "code",
      "metadata": {
        "id": "Nsm8sYPyJoVU",
        "colab_type": "code",
        "outputId": "5d3d7ab9-4132-446c-dae9-d2019517f8c4",
        "colab": {
          "base_uri": "https://localhost:8080/",
          "height": 263
        }
      },
      "source": [
        "dummy_list = [1,2,3,2,200,16,4,1,0,9.45,45.67,90,12.01,12.02]\n",
        "\n",
        "dummy_dict = {}\n",
        "\n",
        "for i in range(len(dummy_list)):\n",
        "  dummy_dict[dummy_list[i]] = dummy_list.count(dummy_list[i])\n",
        "  print(dummy_dict)"
      ],
      "execution_count": 11,
      "outputs": [
        {
          "output_type": "stream",
          "text": [
            "{1: 2}\n",
            "{1: 2, 2: 2}\n",
            "{1: 2, 2: 2, 3: 1}\n",
            "{1: 2, 2: 2, 3: 1}\n",
            "{1: 2, 2: 2, 3: 1, 200: 1}\n",
            "{1: 2, 2: 2, 3: 1, 200: 1, 16: 1}\n",
            "{1: 2, 2: 2, 3: 1, 200: 1, 16: 1, 4: 1}\n",
            "{1: 2, 2: 2, 3: 1, 200: 1, 16: 1, 4: 1}\n",
            "{1: 2, 2: 2, 3: 1, 200: 1, 16: 1, 4: 1, 0: 1}\n",
            "{1: 2, 2: 2, 3: 1, 200: 1, 16: 1, 4: 1, 0: 1, 9.45: 1}\n",
            "{1: 2, 2: 2, 3: 1, 200: 1, 16: 1, 4: 1, 0: 1, 9.45: 1, 45.67: 1}\n",
            "{1: 2, 2: 2, 3: 1, 200: 1, 16: 1, 4: 1, 0: 1, 9.45: 1, 45.67: 1, 90: 1}\n",
            "{1: 2, 2: 2, 3: 1, 200: 1, 16: 1, 4: 1, 0: 1, 9.45: 1, 45.67: 1, 90: 1, 12.01: 1}\n",
            "{1: 2, 2: 2, 3: 1, 200: 1, 16: 1, 4: 1, 0: 1, 9.45: 1, 45.67: 1, 90: 1, 12.01: 1, 12.02: 1}\n"
          ],
          "name": "stdout"
        }
      ]
    },
    {
      "cell_type": "code",
      "metadata": {
        "id": "rtPC6WkSos-y",
        "colab_type": "code",
        "colab": {}
      },
      "source": [
        ""
      ],
      "execution_count": 0,
      "outputs": []
    },
    {
      "cell_type": "markdown",
      "metadata": {
        "id": "RgCYpFXGou6q",
        "colab_type": "text"
      },
      "source": [
        "6) print dummy_dict"
      ]
    },
    {
      "cell_type": "code",
      "metadata": {
        "id": "qe5E5IgxpTWU",
        "colab_type": "code",
        "colab": {
          "base_uri": "https://localhost:8080/",
          "height": 34
        },
        "outputId": "9e2211bc-ae23-4685-e5eb-9499038850bb"
      },
      "source": [
        "print(dummy_dict)"
      ],
      "execution_count": 12,
      "outputs": [
        {
          "output_type": "stream",
          "text": [
            "{1: 2, 2: 2, 3: 1, 200: 1, 16: 1, 4: 1, 0: 1, 9.45: 1, 45.67: 1, 90: 1, 12.01: 1, 12.02: 1}\n"
          ],
          "name": "stdout"
        }
      ]
    },
    {
      "cell_type": "markdown",
      "metadata": {
        "id": "8n_nsBDup4--",
        "colab_type": "text"
      },
      "source": [
        "7) Sort dummy_list in ascending order as well as descending order and print the changed lists "
      ]
    },
    {
      "cell_type": "code",
      "metadata": {
        "colab_type": "code",
        "outputId": "a00db804-52c0-425d-cab1-8d791122c091",
        "id": "tFVJt1_x_nxr",
        "colab": {
          "base_uri": "https://localhost:8080/",
          "height": 34
        }
      },
      "source": [
        "dummy_list = [1,2,3,2,200,16,4,1,0,9.45,45.67,90,12.01,12.02]\n",
        "dummy_list.sort()\n",
        "print(dummy_list)\n"
      ],
      "execution_count": 14,
      "outputs": [
        {
          "output_type": "stream",
          "text": [
            "[0, 1, 1, 2, 2, 3, 4, 9.45, 12.01, 12.02, 16, 45.67, 90, 200]\n"
          ],
          "name": "stdout"
        }
      ]
    },
    {
      "cell_type": "code",
      "metadata": {
        "id": "ImQmpHY6_uoE",
        "colab_type": "code",
        "colab": {}
      },
      "source": [
        ""
      ],
      "execution_count": 0,
      "outputs": []
    },
    {
      "cell_type": "code",
      "metadata": {
        "colab_type": "code",
        "outputId": "a1cd7a2d-793b-4002-dbbd-faa01756c06e",
        "id": "YY2mWZkh_vHl",
        "colab": {
          "base_uri": "https://localhost:8080/",
          "height": 34
        }
      },
      "source": [
        "dummy_list = [1,2,3,2,200,16,4,1,0,9.45,45.67,90,12.01,12.02]\n",
        "dummy_list.sort(reverse=True)\n",
        "print(dummy_list)\n"
      ],
      "execution_count": 16,
      "outputs": [
        {
          "output_type": "stream",
          "text": [
            "[200, 90, 45.67, 16, 12.02, 12.01, 9.45, 4, 3, 2, 2, 1, 1, 0]\n"
          ],
          "name": "stdout"
        }
      ]
    },
    {
      "cell_type": "markdown",
      "metadata": {
        "id": "Znm5Qo4LqPKA",
        "colab_type": "text"
      },
      "source": [
        "8) Remove the first item from the list whose value is equal to x. It raises a ValueError if there is no such item."
      ]
    },
    {
      "cell_type": "code",
      "metadata": {
        "id": "1-8mlngDqYvS",
        "colab_type": "code",
        "colab": {}
      },
      "source": [
        "x = 200\n",
        "\n",
        "# Let's play: try the same with something which is not in the list to get the ValueError"
      ],
      "execution_count": 0,
      "outputs": []
    },
    {
      "cell_type": "code",
      "metadata": {
        "id": "qZ_OxRW8_6uU",
        "colab_type": "code",
        "colab": {
          "base_uri": "https://localhost:8080/",
          "height": 202
        },
        "outputId": "31affdcc-a4dd-4c65-f463-55185b30c59e"
      },
      "source": [
        "dummy_list = [1,2,3,2,200,16,4,1.0,9.5,45.67,90,12.01,12.02]\n",
        "dummy_list.remove(5) # 5 is not in this list\n",
        "print(dummy_list)"
      ],
      "execution_count": 18,
      "outputs": [
        {
          "output_type": "error",
          "ename": "ValueError",
          "evalue": "ignored",
          "traceback": [
            "\u001b[0;31m---------------------------------------------------------------------------\u001b[0m",
            "\u001b[0;31mValueError\u001b[0m                                Traceback (most recent call last)",
            "\u001b[0;32m<ipython-input-18-eddaeb6137cd>\u001b[0m in \u001b[0;36m<module>\u001b[0;34m()\u001b[0m\n\u001b[1;32m      1\u001b[0m \u001b[0mdummy_list\u001b[0m \u001b[0;34m=\u001b[0m \u001b[0;34m[\u001b[0m\u001b[0;36m1\u001b[0m\u001b[0;34m,\u001b[0m\u001b[0;36m2\u001b[0m\u001b[0;34m,\u001b[0m\u001b[0;36m3\u001b[0m\u001b[0;34m,\u001b[0m\u001b[0;36m2\u001b[0m\u001b[0;34m,\u001b[0m\u001b[0;36m200\u001b[0m\u001b[0;34m,\u001b[0m\u001b[0;36m16\u001b[0m\u001b[0;34m,\u001b[0m\u001b[0;36m4\u001b[0m\u001b[0;34m,\u001b[0m\u001b[0;36m1.0\u001b[0m\u001b[0;34m,\u001b[0m\u001b[0;36m9.5\u001b[0m\u001b[0;34m,\u001b[0m\u001b[0;36m45.67\u001b[0m\u001b[0;34m,\u001b[0m\u001b[0;36m90\u001b[0m\u001b[0;34m,\u001b[0m\u001b[0;36m12.01\u001b[0m\u001b[0;34m,\u001b[0m\u001b[0;36m12.02\u001b[0m\u001b[0;34m]\u001b[0m\u001b[0;34m\u001b[0m\u001b[0;34m\u001b[0m\u001b[0m\n\u001b[0;32m----> 2\u001b[0;31m \u001b[0mdummy_list\u001b[0m\u001b[0;34m.\u001b[0m\u001b[0mremove\u001b[0m\u001b[0;34m(\u001b[0m\u001b[0;36m5\u001b[0m\u001b[0;34m)\u001b[0m \u001b[0;31m# 5 is not in this list\u001b[0m\u001b[0;34m\u001b[0m\u001b[0;34m\u001b[0m\u001b[0m\n\u001b[0m\u001b[1;32m      3\u001b[0m \u001b[0mprint\u001b[0m\u001b[0;34m(\u001b[0m\u001b[0mdummy_list\u001b[0m\u001b[0;34m)\u001b[0m\u001b[0;34m\u001b[0m\u001b[0;34m\u001b[0m\u001b[0m\n",
            "\u001b[0;31mValueError\u001b[0m: list.remove(x): x not in list"
          ]
        }
      ]
    },
    {
      "cell_type": "markdown",
      "metadata": {
        "id": "QPB6iGbeqviN",
        "colab_type": "text"
      },
      "source": [
        "9) Remove the item at position x. x is any random integer"
      ]
    },
    {
      "cell_type": "code",
      "metadata": {
        "id": "aMyo1gmRrVHo",
        "colab_type": "code",
        "colab": {
          "base_uri": "https://localhost:8080/",
          "height": 185
        },
        "outputId": "2d12d481-d82b-47de-a0b5-4f6fcef8ff1a"
      },
      "source": [
        "# Let's play: try doing the same with x > len(dummy_list) + 1 and see what you get\n",
        "dummy_list.remove(15) #15 is not in this list\n",
        "print(dummy_list)"
      ],
      "execution_count": 19,
      "outputs": [
        {
          "output_type": "error",
          "ename": "ValueError",
          "evalue": "ignored",
          "traceback": [
            "\u001b[0;31m---------------------------------------------------------------------------\u001b[0m",
            "\u001b[0;31mValueError\u001b[0m                                Traceback (most recent call last)",
            "\u001b[0;32m<ipython-input-19-25cf3e23f361>\u001b[0m in \u001b[0;36m<module>\u001b[0;34m()\u001b[0m\n\u001b[0;32m----> 1\u001b[0;31m \u001b[0mdummy_list\u001b[0m\u001b[0;34m.\u001b[0m\u001b[0mremove\u001b[0m\u001b[0;34m(\u001b[0m\u001b[0;36m15\u001b[0m\u001b[0;34m)\u001b[0m \u001b[0;31m#15 is not in this list\u001b[0m\u001b[0;34m\u001b[0m\u001b[0;34m\u001b[0m\u001b[0m\n\u001b[0m\u001b[1;32m      2\u001b[0m \u001b[0mprint\u001b[0m\u001b[0;34m(\u001b[0m\u001b[0mdummy_list\u001b[0m\u001b[0;34m)\u001b[0m\u001b[0;34m\u001b[0m\u001b[0;34m\u001b[0m\u001b[0m\n",
            "\u001b[0;31mValueError\u001b[0m: list.remove(x): x not in list"
          ]
        }
      ]
    },
    {
      "cell_type": "markdown",
      "metadata": {
        "id": "bqQnnsr8rm6G",
        "colab_type": "text"
      },
      "source": [
        "10) Let's clean everything clear the list and then print"
      ]
    },
    {
      "cell_type": "code",
      "metadata": {
        "id": "qBC8lKpLrtJW",
        "colab_type": "code",
        "colab": {
          "base_uri": "https://localhost:8080/",
          "height": 34
        },
        "outputId": "a22a54a7-5700-41ce-b51d-fd4250684ffc"
      },
      "source": [
        "dummy_list.clear()\n",
        "print(dummy_list)"
      ],
      "execution_count": 20,
      "outputs": [
        {
          "output_type": "stream",
          "text": [
            "[]\n"
          ],
          "name": "stdout"
        }
      ]
    }
  ]
}